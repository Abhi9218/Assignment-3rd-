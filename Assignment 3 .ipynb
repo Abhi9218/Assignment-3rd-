{
 "cells": [
  {
   "cell_type": "markdown",
   "id": "936e6b1c-f629-4efc-bf07-3cda572e9fe9",
   "metadata": {},
   "source": [
    "### Assignment 3rd"
   ]
  },
  {
   "cell_type": "markdown",
   "id": "3266597d-d124-41b5-a4e0-5357f48c9f05",
   "metadata": {},
   "source": [
    "### Q1. Which keyword is used to create a function? Create a function to return a list of odd numbers in the range of 1 to 25."
   ]
  },
  {
   "cell_type": "markdown",
   "id": "220cea3c-b9f8-4c9d-9b69-06448371c5fe",
   "metadata": {},
   "source": [
    "Ans= def keyword is used to create a function."
   ]
  },
  {
   "cell_type": "code",
   "execution_count": 3,
   "id": "54dfbbb2-0cbb-4d60-aa76-845ceb397cce",
   "metadata": {},
   "outputs": [
    {
     "data": {
      "text/plain": [
       "[1, 3, 5, 7, 9, 11, 13, 15, 17, 19, 21, 23]"
      ]
     },
     "execution_count": 3,
     "metadata": {},
     "output_type": "execute_result"
    }
   ],
   "source": [
    "def test(m):\n",
    "    l1=[]\n",
    "    for i in range (m):\n",
    "        if i%2!=0:\n",
    "            l1.append(i)\n",
    "    return l1\n",
    "test(25)"
   ]
  },
  {
   "cell_type": "code",
   "execution_count": 2,
   "id": "59a48c22-8544-4261-bc2a-6202a2db57c9",
   "metadata": {},
   "outputs": [
    {
     "data": {
      "text/plain": [
       "[1, 3, 5, 7, 9, 11, 13, 15, 17, 19, 21, 23]"
      ]
     },
     "execution_count": 2,
     "metadata": {},
     "output_type": "execute_result"
    }
   ],
   "source": [
    "l1=[]\n",
    "for i in range (25):\n",
    "    if i%2!=0:\n",
    "        l1.append(i)\n",
    "l1"
   ]
  },
  {
   "cell_type": "markdown",
   "id": "c0d0b516-4a11-4b24-bed0-324844baa860",
   "metadata": {},
   "source": [
    "### Q2. Why *args and **kwargs is used in some functions? Create a function each for *args and **kwargs to demonstrate their use."
   ]
  },
  {
   "cell_type": "markdown",
   "id": "91871b5f-33d1-4375-9315-b08367191c91",
   "metadata": {},
   "source": [
    "Ans=(*args)- *args is used to pass the elements in tupel form.\n",
    "\n",
    "    There uses--"
   ]
  },
  {
   "cell_type": "code",
   "execution_count": 33,
   "id": "8e166d96-843e-496a-bad6-d26af33018cb",
   "metadata": {},
   "outputs": [],
   "source": [
    "def test(*args ):\n",
    "    return args"
   ]
  },
  {
   "cell_type": "code",
   "execution_count": 34,
   "id": "8f83f1d8-6aee-4439-a2e5-37a47e18bea9",
   "metadata": {},
   "outputs": [
    {
     "data": {
      "text/plain": [
       "('Abhishek', 'Amit', 'Prajapati', 1, 2, 3, 4, 5, 4, 3, [1, 2, 3, 4, 5, 6])"
      ]
     },
     "execution_count": 34,
     "metadata": {},
     "output_type": "execute_result"
    }
   ],
   "source": [
    "test(\"Abhishek\",\"Amit\",\"Prajapati\",1,2,3,4,5,4,3,[1,2,3,4,5,6])"
   ]
  },
  {
   "cell_type": "code",
   "execution_count": 35,
   "id": "051d73fd-3945-429d-b70b-ec50cfc9a76c",
   "metadata": {},
   "outputs": [],
   "source": [
    "def test1(*args):\n",
    "    return args"
   ]
  },
  {
   "cell_type": "code",
   "execution_count": 41,
   "id": "b233f962-73bf-495a-81ac-149b0faca500",
   "metadata": {},
   "outputs": [
    {
     "data": {
      "text/plain": [
       "(1, 2, 7, 'Prajapatifamily', 'Abhishek', ['kundan prjapati', 1, 2, 3, 4, 5, 6])"
      ]
     },
     "execution_count": 41,
     "metadata": {},
     "output_type": "execute_result"
    }
   ],
   "source": [
    "test1(1,2,7,\"Prajapatifamily\",\"Abhishek\",[\"kundan prjapati\",1,2,3,4,5,6] )\n",
    "      "
   ]
  },
  {
   "cell_type": "markdown",
   "id": "81614a52-730b-457e-99f2-0d2a55eff274",
   "metadata": {},
   "source": [
    "**kwargs-- **kwargs is used to pass the element in in dictonery form. \n",
    "          \n",
    "          Ther uses--"
   ]
  },
  {
   "cell_type": "code",
   "execution_count": 42,
   "id": "5e191453-d386-4275-b9b0-858be1520177",
   "metadata": {},
   "outputs": [],
   "source": [
    "def test2(**kwargs):\n",
    "    return kwargs"
   ]
  },
  {
   "cell_type": "code",
   "execution_count": 48,
   "id": "cbd19dfb-fa5c-43ee-85f9-5476122ea5ff",
   "metadata": {},
   "outputs": [
    {
     "data": {
      "text/plain": [
       "dict"
      ]
     },
     "execution_count": 48,
     "metadata": {},
     "output_type": "execute_result"
    }
   ],
   "source": [
    "type(test2())"
   ]
  },
  {
   "cell_type": "code",
   "execution_count": 46,
   "id": "2f7f15fe-683b-4f3c-ad66-7bf42090d0f1",
   "metadata": {},
   "outputs": [
    {
     "data": {
      "text/plain": [
       "{'Abhi': 6387, 'ram': 12, 'Shud': 4, 'Abh': 3}"
      ]
     },
     "execution_count": 46,
     "metadata": {},
     "output_type": "execute_result"
    }
   ],
   "source": [
    "test2 (Abhi=6387,ram=12,Shud=4,Abh=3)"
   ]
  },
  {
   "cell_type": "markdown",
   "id": "1ab1e449-5e9e-40c0-8de9-dc15100b7d10",
   "metadata": {},
   "source": [
    "### Q3. What is an iterator in python? Name the method used to initialise the iterator object and the method used for iteration. Use these methods to print the first five elements of the given list [2, 4, 6, 8, 10, 12, 14,16, 18, 20]."
   ]
  },
  {
   "cell_type": "markdown",
   "id": "32d46edf-615d-4e69-a267-e9e0c6ca1b10",
   "metadata": {},
   "source": [
    "Ans-In python,an iterator is an object that allow to iterate over collection of data ,such that list tuple,dictionery and set. iter() method is used to initialise the iterator object."
   ]
  },
  {
   "cell_type": "code",
   "execution_count": 4,
   "id": "d095fc7d-930d-4bf9-a856-c00ac2ef5514",
   "metadata": {},
   "outputs": [
    {
     "name": "stdout",
     "output_type": "stream",
     "text": [
      "2\n",
      "4\n",
      "6\n",
      "8\n",
      "10\n"
     ]
    }
   ],
   "source": [
    "n=[2, 4, 6, 8, 10, 12, 14, 16, 18, 20]\n",
    "iterator=iter(n)\n",
    "for i in range(5):\n",
    "    n2=next(iterator)\n",
    "    print(n2)"
   ]
  },
  {
   "cell_type": "markdown",
   "id": "c7adb343-e386-4fcf-92e3-ac4f62de46fc",
   "metadata": {},
   "source": [
    "### Q4. What is a generator function in python? Why yield keyword is used? Give an example of a generator function."
   ]
  },
  {
   "cell_type": "markdown",
   "id": "e0f39ff0-16ab-4aa1-b068-a0ebb0c23b55",
   "metadata": {},
   "source": [
    "Ans-A function that generates a squence of value is known as generator function,yield keyword is used to control the flow of generator function.Example of generator function---"
   ]
  },
  {
   "cell_type": "code",
   "execution_count": 2,
   "id": "590d6281-6876-4dc3-827c-37e1fd665037",
   "metadata": {},
   "outputs": [],
   "source": [
    "def generat(n):\n",
    "    a,b=0,1\n",
    "    while True:\n",
    "        yield a\n",
    "        a,b=b,a+b"
   ]
  },
  {
   "cell_type": "code",
   "execution_count": 3,
   "id": "5ec24076-e191-410b-972b-6da88272872d",
   "metadata": {},
   "outputs": [],
   "source": [
    "Abhi=generat(\"n\")"
   ]
  },
  {
   "cell_type": "code",
   "execution_count": 4,
   "id": "5d007dd9-f355-4d4a-85ac-ba48bc775a07",
   "metadata": {},
   "outputs": [
    {
     "data": {
      "text/plain": [
       "generator"
      ]
     },
     "execution_count": 4,
     "metadata": {},
     "output_type": "execute_result"
    }
   ],
   "source": [
    "type(Abhi)"
   ]
  },
  {
   "cell_type": "code",
   "execution_count": 5,
   "id": "5901f8bb-96f8-42b3-9e94-70f443f54c47",
   "metadata": {},
   "outputs": [
    {
     "name": "stdout",
     "output_type": "stream",
     "text": [
      "0\n",
      "1\n",
      "1\n",
      "2\n",
      "3\n",
      "5\n",
      "8\n",
      "13\n",
      "21\n",
      "34\n"
     ]
    }
   ],
   "source": [
    "for i in range (10):\n",
    "    print(next(Abhi))"
   ]
  },
  {
   "cell_type": "markdown",
   "id": "93b142cc-7ab2-4bca-90a0-06cb2261204a",
   "metadata": {},
   "source": [
    "### Q5. Create a generator function for prime numbers less than 1000. Use the next() method to print the first 20 prime numbers."
   ]
  },
  {
   "cell_type": "code",
   "execution_count": 1,
   "id": "9dab165d-775f-42d1-9801-65092bd7c580",
   "metadata": {},
   "outputs": [
    {
     "name": "stdout",
     "output_type": "stream",
     "text": [
      "2\n",
      "3\n",
      "5\n",
      "7\n",
      "11\n",
      "13\n",
      "17\n",
      "19\n",
      "23\n",
      "29\n",
      "31\n",
      "37\n",
      "41\n",
      "43\n",
      "47\n",
      "53\n",
      "59\n",
      "61\n",
      "67\n",
      "71\n"
     ]
    }
   ],
   "source": [
    "def prime_numbers():\n",
    "    prime=[]\n",
    "    num=2\n",
    "    \n",
    "    while num<100:                             \"\"\" second method \"\"\"\n",
    "        if all (num % p != 0 for p in prime):\n",
    "            prime.append(num)\n",
    "            yield num\n",
    "        num += 1\n",
    "\n",
    "#Create the generator object\n",
    "prime_generator=prime_numbers()\n",
    "\n",
    "#Print the first 20 prime numbers\n",
    "for _ in range(20):\n",
    "    prime=next(prime_generator)\n",
    "    print(prime)\n",
    "            "
   ]
  },
  {
   "cell_type": "markdown",
   "id": "8d5b0bc7-615e-46e5-84d8-fa71e9ac4846",
   "metadata": {},
   "source": [
    "### Q6. Write a python program to print the first 10 Fibonacci numbers using a while loop."
   ]
  },
  {
   "cell_type": "markdown",
   "id": "dafc41fd-f996-4622-9177-55b634f639c5",
   "metadata": {},
   "source": [
    "### Ans"
   ]
  },
  {
   "cell_type": "code",
   "execution_count": 5,
   "id": "4131d33f-fe66-4e1e-acb0-ab062f170d63",
   "metadata": {},
   "outputs": [],
   "source": [
    "def test1(m):\n",
    "    a,b=0,1\n",
    "    for i in range(m):\n",
    "        yield a\n",
    "        a,b=b,a+b"
   ]
  },
  {
   "cell_type": "code",
   "execution_count": 6,
   "id": "98328586-0584-47b6-b995-4c9594d21ede",
   "metadata": {},
   "outputs": [
    {
     "name": "stdout",
     "output_type": "stream",
     "text": [
      "0\n",
      "1\n",
      "1\n",
      "2\n",
      "3\n",
      "5\n",
      "8\n",
      "13\n",
      "21\n",
      "34\n"
     ]
    }
   ],
   "source": [
    "for i in test1(10):\n",
    "    print(i)"
   ]
  },
  {
   "cell_type": "markdown",
   "id": "65dda85f-5aee-4ad6-b1cb-fba1dcc2426e",
   "metadata": {
    "jp-MarkdownHeadingCollapsed": true,
    "tags": []
   },
   "source": [
    "### Q7. Write a List Comprehension to iterate through the given string: ‘pwskills’.\n",
    "Expected output: ['p', 'w', 's', 'k', 'i', 'l', 'l', 's']"
   ]
  },
  {
   "cell_type": "markdown",
   "id": "3dbbe0c4-4ecf-4f76-b110-cbcdbcd5f44a",
   "metadata": {},
   "source": [
    "### Ans"
   ]
  },
  {
   "cell_type": "code",
   "execution_count": 6,
   "id": "8044e08f-d066-4f5e-b3cb-6f2fdfec4738",
   "metadata": {},
   "outputs": [],
   "source": [
    "string=\"pwskills\"  #first way\n",
    "l1=[ Abhi for Abhi in string]"
   ]
  },
  {
   "cell_type": "code",
   "execution_count": 7,
   "id": "f9e73ade-ec11-4a87-aedd-6a107014dc1f",
   "metadata": {},
   "outputs": [
    {
     "data": {
      "text/plain": [
       "['p', 'w', 's', 'k', 'i', 'l', 'l', 's']"
      ]
     },
     "execution_count": 7,
     "metadata": {},
     "output_type": "execute_result"
    }
   ],
   "source": [
    "l1"
   ]
  },
  {
   "cell_type": "code",
   "execution_count": 6,
   "id": "db388161-8cc0-4a35-baa9-9613cba697dc",
   "metadata": {},
   "outputs": [],
   "source": [
    "def test(p):       ### second way\n",
    "    l1=[]\n",
    "    for i in p:\n",
    "        l1.append(i)\n",
    "    return l1"
   ]
  },
  {
   "cell_type": "code",
   "execution_count": 8,
   "id": "e6a6c5bd-58db-43a0-bb5d-aa21b85a8c5a",
   "metadata": {},
   "outputs": [
    {
     "data": {
      "text/plain": [
       "['A', 'b', 'h', 'i', 's', 'h', 'e', 'k']"
      ]
     },
     "execution_count": 8,
     "metadata": {},
     "output_type": "execute_result"
    }
   ],
   "source": [
    "test(\"Abhishek\")"
   ]
  },
  {
   "cell_type": "markdown",
   "id": "63800d5c-f6ee-4be9-a5ca-44374084a0b9",
   "metadata": {},
   "source": [
    "### Q8. Write a python program to check whether a given number is Palindrome or not using a while loop."
   ]
  },
  {
   "cell_type": "markdown",
   "id": "f9dcb8b5-202c-464c-9e87-99272116bb74",
   "metadata": {},
   "source": [
    "#### Example--"
   ]
  },
  {
   "cell_type": "code",
   "execution_count": 6,
   "id": "6d3e89df-dceb-4e03-8705-694ff0f1c1d2",
   "metadata": {},
   "outputs": [
    {
     "name": "stdin",
     "output_type": "stream",
     "text": [
      "Enter your number 121\n"
     ]
    },
    {
     "name": "stdout",
     "output_type": "stream",
     "text": [
      "Number is palindrome\n"
     ]
    }
   ],
   "source": [
    "number=int(input(\"Enter your number\"))\n",
    "test=number\n",
    "reverse=0\n",
    "\n",
    "while(number>0):\n",
    "    dig= number%10\n",
    "    reverse=reverse*10+dig\n",
    "    number=number//10\n",
    "    \n",
    "if test== reverse:\n",
    "    print(\"Number is palindrome\")\n",
    "else:\n",
    "    print(\"Number is not palindrome\")\n",
    "    "
   ]
  },
  {
   "cell_type": "markdown",
   "id": "f1f06d8b-c60b-4245-81a5-c2a3786733aa",
   "metadata": {},
   "source": [
    "### Q9. Write a code to print odd numbers from 1 to 100 using list comprehension."
   ]
  },
  {
   "cell_type": "markdown",
   "id": "15ab6b5d-372c-4621-82e7-e836cd3b94a6",
   "metadata": {},
   "source": [
    "### Ans"
   ]
  },
  {
   "cell_type": "code",
   "execution_count": 4,
   "id": "8709bdf4-ca43-48e2-b3a2-fed786a26e7e",
   "metadata": {},
   "outputs": [],
   "source": [
    "ls=[i for i in range(100) if i%2!=0 ]  ###  first method  ( cpmprehension method)"
   ]
  },
  {
   "cell_type": "code",
   "execution_count": 5,
   "id": "85736eee-c23d-448b-9447-7b34935d249c",
   "metadata": {},
   "outputs": [
    {
     "data": {
      "text/plain": [
       "[1,\n",
       " 3,\n",
       " 5,\n",
       " 7,\n",
       " 9,\n",
       " 11,\n",
       " 13,\n",
       " 15,\n",
       " 17,\n",
       " 19,\n",
       " 21,\n",
       " 23,\n",
       " 25,\n",
       " 27,\n",
       " 29,\n",
       " 31,\n",
       " 33,\n",
       " 35,\n",
       " 37,\n",
       " 39,\n",
       " 41,\n",
       " 43,\n",
       " 45,\n",
       " 47,\n",
       " 49,\n",
       " 51,\n",
       " 53,\n",
       " 55,\n",
       " 57,\n",
       " 59,\n",
       " 61,\n",
       " 63,\n",
       " 65,\n",
       " 67,\n",
       " 69,\n",
       " 71,\n",
       " 73,\n",
       " 75,\n",
       " 77,\n",
       " 79,\n",
       " 81,\n",
       " 83,\n",
       " 85,\n",
       " 87,\n",
       " 89,\n",
       " 91,\n",
       " 93,\n",
       " 95,\n",
       " 97,\n",
       " 99]"
      ]
     },
     "execution_count": 5,
     "metadata": {},
     "output_type": "execute_result"
    }
   ],
   "source": [
    "ls"
   ]
  },
  {
   "cell_type": "code",
   "execution_count": null,
   "id": "1a370f71-7d01-4e09-94ae-2ddf0b97c905",
   "metadata": {},
   "outputs": [],
   "source": [
    "l1=[]\n",
    "for i in range (100):    ### second method \n",
    "    if i%2!=0:           ### without comprehensin method\n",
    "        l1.append(i) "
   ]
  },
  {
   "cell_type": "code",
   "execution_count": 6,
   "id": "ec7dc8b4-5490-40d0-a03f-50a044b2afde",
   "metadata": {},
   "outputs": [
    {
     "data": {
      "text/plain": [
       "[1,\n",
       " 3,\n",
       " 5,\n",
       " 7,\n",
       " 9,\n",
       " 11,\n",
       " 13,\n",
       " 15,\n",
       " 17,\n",
       " 19,\n",
       " 21,\n",
       " 23,\n",
       " 25,\n",
       " 27,\n",
       " 29,\n",
       " 31,\n",
       " 33,\n",
       " 35,\n",
       " 37,\n",
       " 39,\n",
       " 41,\n",
       " 43,\n",
       " 45,\n",
       " 47,\n",
       " 49,\n",
       " 51,\n",
       " 53,\n",
       " 55,\n",
       " 57,\n",
       " 59,\n",
       " 61,\n",
       " 63,\n",
       " 65,\n",
       " 67,\n",
       " 69,\n",
       " 71,\n",
       " 73,\n",
       " 75,\n",
       " 77,\n",
       " 79,\n",
       " 81,\n",
       " 83,\n",
       " 85,\n",
       " 87,\n",
       " 89,\n",
       " 91,\n",
       " 93,\n",
       " 95,\n",
       " 97,\n",
       " 99]"
      ]
     },
     "execution_count": 6,
     "metadata": {},
     "output_type": "execute_result"
    }
   ],
   "source": [
    "l1"
   ]
  },
  {
   "cell_type": "code",
   "execution_count": null,
   "id": "c1f31b14-4574-4961-897f-55a848de4677",
   "metadata": {},
   "outputs": [],
   "source": []
  }
 ],
 "metadata": {
  "kernelspec": {
   "display_name": "Python 3 (ipykernel)",
   "language": "python",
   "name": "python3"
  },
  "language_info": {
   "codemirror_mode": {
    "name": "ipython",
    "version": 3
   },
   "file_extension": ".py",
   "mimetype": "text/x-python",
   "name": "python",
   "nbconvert_exporter": "python",
   "pygments_lexer": "ipython3",
   "version": "3.10.8"
  }
 },
 "nbformat": 4,
 "nbformat_minor": 5
}
